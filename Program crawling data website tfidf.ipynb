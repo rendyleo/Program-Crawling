{
  "nbformat": 4,
  "nbformat_minor": 0,
  "metadata": {
    "colab": {
      "provenance": []
    },
    "kernelspec": {
      "name": "python3",
      "display_name": "Python 3"
    },
    "language_info": {
      "name": "python"
    }
  },
  "cells": [
    {
      "cell_type": "code",
      "source": [
        "import pandas as pd\n",
        "from sklearn.feature_extraction.text import TfidfVectorizer\n",
        "\n",
        "# Load data dari file CSV\n",
        "file_path = '/content/hasil_crawling5.csv'  # Ganti dengan lokasi file Anda\n",
        "df = pd.read_csv(file_path)\n",
        "\n",
        "# Membersihkan data Link_Text: menghapus karakter kosong, newline, dan teks yang tidak relevan\n",
        "df['Link_Text'] = df['Link_Text'].str.strip().replace(r'\\n+', ' ', regex=True)\n",
        "\n",
        "# Filter data yang relevan: menghapus baris yang teksnya kosong atau tidak memiliki informasi penting\n",
        "df_filtered = df[df['Link_Text'].str.len() > 3].reset_index(drop=True)\n",
        "\n",
        "# Menampilkan data yang sudah dibersihkan\n",
        "print(\"Data setelah dibersihkan:\")\n",
        "print(df_filtered.head())\n",
        "\n",
        "# Menggunakan TfidfVectorizer untuk menghitung bobot TF-IDF\n",
        "vectorizer = TfidfVectorizer()\n",
        "\n",
        "# Menerapkan TF-IDF pada kolom Link_Text yang sudah dibersihkan\n",
        "tfidf_matrix = vectorizer.fit_transform(df_filtered['Link_Text'])\n",
        "\n",
        "# Mendapatkan istilah (terms) yang ada di dalam vektor ruang kata\n",
        "terms = vectorizer.get_feature_names_out()\n",
        "\n",
        "# Membuat DataFrame untuk representasi TF-IDF\n",
        "df_tfidf = pd.DataFrame(tfidf_matrix.toarray(), columns=terms)\n",
        "\n",
        "# Menampilkan DataFrame TF-IDF\n",
        "print(\"\\nTF-IDF Matrix:\")\n",
        "print(df_tfidf.head())\n",
        "\n",
        "# Menyimpan hasil TF-IDF ke CSV (opsional)\n",
        "df_tfidf.to_csv('tfidf_matrix.csv', index=False)\n",
        "print(\"Data disimpan ke file tfidf_matrix.csv\")\n"
      ],
      "metadata": {
        "colab": {
          "base_uri": "https://localhost:8080/"
        },
        "id": "3eavjpO_dX0Z",
        "outputId": "6cf5709b-e6ff-4cee-bfdf-524aaed221db"
      },
      "execution_count": 8,
      "outputs": [
        {
          "output_type": "stream",
          "name": "stdout",
          "text": [
            "Data setelah dibersihkan:\n",
            "  Link_Text                   Link_URL\n",
            "0  BOLA.NET      https://www.bola.net/\n",
            "1  BOLA.COM      https://www.bola.com/\n",
            "2   MERDEKA   https://www.merdeka.com/\n",
            "3  LIPUTAN6  https://www.liputan6.com/\n",
            "4    OTOSIA    https://www.otosia.com/\n",
            "\n",
            "TF-IDF Matrix:\n",
            "    10   11   14   15   19   1x  2024  2025  2026   21  ...  virus  voli   vs  \\\n",
            "0  0.0  0.0  0.0  0.0  0.0  0.0   0.0   0.0   0.0  0.0  ...    0.0   0.0  0.0   \n",
            "1  0.0  0.0  0.0  0.0  0.0  0.0   0.0   0.0   0.0  0.0  ...    0.0   0.0  0.0   \n",
            "2  0.0  0.0  0.0  0.0  0.0  0.0   0.0   0.0   0.0  0.0  ...    0.0   0.0  0.0   \n",
            "3  0.0  0.0  0.0  0.0  0.0  0.0   0.0   0.0   0.0  0.0  ...    0.0   0.0  0.0   \n",
            "4  0.0  0.0  0.0  0.0  0.0  0.0   0.0   0.0   0.0  0.0  ...    0.0   0.0  0.0   \n",
            "\n",
            "   waduh  wags  wallpaper  wasit  yang  yong  zona  \n",
            "0    0.0   0.0        0.0    0.0   0.0   0.0   0.0  \n",
            "1    0.0   0.0        0.0    0.0   0.0   0.0   0.0  \n",
            "2    0.0   0.0        0.0    0.0   0.0   0.0   0.0  \n",
            "3    0.0   0.0        0.0    0.0   0.0   0.0   0.0  \n",
            "4    0.0   0.0        0.0    0.0   0.0   0.0   0.0  \n",
            "\n",
            "[5 rows x 635 columns]\n",
            "Data disimpan ke file tfidf_matrix.csv\n"
          ]
        }
      ]
    }
  ]
}