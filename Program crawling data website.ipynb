{
  "nbformat": 4,
  "nbformat_minor": 0,
  "metadata": {
    "colab": {
      "provenance": []
    },
    "kernelspec": {
      "name": "python3",
      "display_name": "Python 3"
    },
    "language_info": {
      "name": "python"
    }
  },
  "cells": [
    {
      "cell_type": "code",
      "execution_count": null,
      "metadata": {
        "colab": {
          "base_uri": "https://localhost:8080/"
        },
        "id": "CvdL7GKN9SNL",
        "outputId": "77716d50-42aa-4887-f204-654bfb6e62a4"
      },
      "outputs": [
        {
          "output_type": "stream",
          "name": "stdout",
          "text": [
            "Requirement already satisfied: requests in /usr/local/lib/python3.10/dist-packages (2.32.3)\n",
            "Requirement already satisfied: beautifulsoup4 in /usr/local/lib/python3.10/dist-packages (4.12.3)\n",
            "Requirement already satisfied: charset-normalizer<4,>=2 in /usr/local/lib/python3.10/dist-packages (from requests) (3.3.2)\n",
            "Requirement already satisfied: idna<4,>=2.5 in /usr/local/lib/python3.10/dist-packages (from requests) (3.8)\n",
            "Requirement already satisfied: urllib3<3,>=1.21.1 in /usr/local/lib/python3.10/dist-packages (from requests) (2.0.7)\n",
            "Requirement already satisfied: certifi>=2017.4.17 in /usr/local/lib/python3.10/dist-packages (from requests) (2024.8.30)\n",
            "Requirement already satisfied: soupsieve>1.2 in /usr/local/lib/python3.10/dist-packages (from beautifulsoup4) (2.6)\n"
          ]
        }
      ],
      "source": [
        "pip install requests beautifulsoup4"
      ]
    },
    {
      "cell_type": "code",
      "source": [
        "import requests\n",
        "\n",
        "# URL halaman yang ingin diambil\n",
        "url = 'https://pemilu.kompas.com/?source=navbar'\n",
        "\n",
        "# Mengambil halaman\n",
        "response = requests.get(url)\n",
        "\n",
        "# Periksa status pengambilan\n",
        "if response.status_code == 200:\n",
        "    print(\"Sukses mengambil halaman!\")\n",
        "    html_content = response.text\n",
        "else:\n",
        "    print(\"Gagal mengambil halaman:\", response.status_code)\n"
      ],
      "metadata": {
        "colab": {
          "base_uri": "https://localhost:8080/"
        },
        "id": "TpgkDjTx-cRe",
        "outputId": "b22853ce-c18a-49b9-f163-e7197e2c44ff"
      },
      "execution_count": 49,
      "outputs": [
        {
          "output_type": "stream",
          "name": "stdout",
          "text": [
            "Sukses mengambil halaman!\n"
          ]
        }
      ]
    },
    {
      "cell_type": "code",
      "source": [
        "# Fungsi untuk mengambil isi dari halaman detail berita\n",
        "def get_news_content(news_url):\n",
        "    response = requests.get(news_url, headers=headers)\n",
        "    if response.status_code != 200:\n",
        "        print(f\"Gagal mengakses halaman berita: {news_url}\")\n",
        "        return \"\"\n",
        "\n",
        "    soup = BeautifulSoup(response.text, 'lxml')"
      ],
      "metadata": {
        "id": "xGJlyPfyXwyk"
      },
      "execution_count": 50,
      "outputs": []
    },
    {
      "cell_type": "code",
      "source": [
        "from bs4 import BeautifulSoup\n",
        "\n",
        "# Parsing HTML menggunakan BeautifulSoup\n",
        "soup = BeautifulSoup(html_content, 'lxml')\n",
        "\n",
        "# Contoh mengambil judul halaman\n",
        "page_title = soup.title.text\n",
        "print(\"Judul halaman:\", page_title)\n",
        "\n",
        "def get_news_content(news_url):\n",
        "    response = requests.get(news_url, headers=headers)\n",
        "    if response.status_code != 200:\n",
        "        print(f\"Gagal mengakses halaman berita: {news_url}\")\n",
        "        return \"\"\n",
        "\n",
        "    soup = BeautifulSoup(response.text, 'lxml')\n"
      ],
      "metadata": {
        "colab": {
          "base_uri": "https://localhost:8080/"
        },
        "id": "stq144oTAEZT",
        "outputId": "5633c787-41c8-41d8-fa9d-62e0f3555256"
      },
      "execution_count": 51,
      "outputs": [
        {
          "output_type": "stream",
          "name": "stdout",
          "text": [
            "Judul halaman: \n",
            "        Pemilu 2024: Berita Harian, Jadwal dan Tahapan - Kompas.com    \n"
          ]
        }
      ]
    },
    {
      "cell_type": "code",
      "source": [
        "# Menemukan semua elemen <a> (link) di halaman\n",
        "links = soup.find_all('a')\n",
        "\n",
        "# Cetak semua URL link\n",
        "for link in links:\n",
        "    print(link.get('href'))\n"
      ],
      "metadata": {
        "colab": {
          "base_uri": "https://localhost:8080/"
        },
        "id": "t0b6FbsrAGp2",
        "outputId": "658bc927-d274-457d-a4a3-2a5a9816faaa"
      },
      "execution_count": 52,
      "outputs": [
        {
          "output_type": "stream",
          "name": "stdout",
          "text": [
            "https://www.kompas.com/\n",
            "https://pemilu.kompas.com/\n",
            "https://pemilu.kompas.com/\n",
            "https://pemilu.kompas.com/quickcount\n",
            "https://pemilu.kompas.com/hasil-akhir\n",
            "https://pemilu.kompas.com/pilpres\n",
            "https://pemilu.kompas.com/pilkada\n",
            "https://pemilu.kompas.com/pileg\n",
            "https://pemilu.kompas.com/kamus\n",
            "https://pemilu.kompas.com/infografis\n",
            "https://pemilu.kompas.com/news\n",
            "https://indeks.kompas.com/topik-pilihan/list/7225/cek.fakta.pemilu\n",
            "https://video.kompas.com/watch/1671413/tanggapan-andika-perkasa-soal-perang-bintang-di-pilkada-jawa-tengah-2024\n",
            "http://regional.kompas.com/read/2024/09/10/132555678/hadiri-rakercabsus-pilkada-pdi-p-di-sukoharjo-andika-perkasa-hendi-naik\n",
            "http://regional.kompas.com/read/2024/09/10/092640278/jelang-tahapan-masukan-dan-tanggapan-pilkada-kpu-kabupaten-semarang\n",
            "http://makassar.kompas.com/read/2024/09/09/214905178/alasan-dua-anggota-dprd-sulut-2024-2029-memilih-tidak-dilantik\n",
            "http://nasional.kompas.com/read/2024/09/09/20301631/wacana-kotak-kosong-tiap-daerah-pengamat-masalah-akut-soal-demokratisasi\n",
            "http://denpasar.kompas.com/read/2024/09/09/192355878/kpu-buleleng-sebut-40-persen-pemilih-berada-di-luar-daerah\n",
            "http://nasional.kompas.com/read/2024/09/09/19173191/aspirasi-publik-bukan-di-kotak-kosong-tapi-pada-calon-dari-parpol-atau\n",
            "http://www.kompas.com/tren/read/2024/09/09/160000265/profil-letjen-tni-purn-am-putranto-ketua-tim-pemenangan-ahmad-luthfi-taj\n",
            "http://nasional.kompas.com/read/2024/09/09/15551251/pengamat-nilai-gerakan-coblos-3-calon-pada-pilkada-jakarta-bakal-gerus\n",
            "http://yogyakarta.kompas.com/read/2024/09/09/154042578/bahas-beda-koalisi-parpol-pada-pilkada-jateng-dan-sragen-andika-perkasa\n",
            "http://regional.kompas.com/read/2024/09/09/143504778/kampanye-mendukung-kotak-kosong-mulai-bermunculan-di-bangka-belitung\n",
            "http://nasional.kompas.com/read/2024/09/09/14193091/soal-kandidat-pilkada-curi-start-kampanye-kpu-serahkan-ke-bawaslu\n",
            "https://www.kompas.com/topik-pilihan/list/7106/pemilu-2024\n",
            "https://www.kompas.com/topik-pilihan/list/8167/pengakuan-jokowi-cawe-cawe-di-pemilu-2024\n",
            "https://www.kompas.com/topik-pilihan/list/7908/korupsi-proyek-bts-bakti-kominfo\n",
            "https://www.kompas.com/topik-pilihan/list/8738/debat-capres-cawapres-pemilu-2024\n",
            "https://www.kompas.com/topik-pilihan/list/6639/cek-fakta-kompas.com\n",
            "https://www.kompas.com/topik-pilihan/list/7261/ikn-dinamika-dan-progres-pembangunannya\n",
            "http://regional.kompas.com/read/2024/09/10/132555678/hadiri-rakercabsus-pilkada-pdi-p-di-sukoharjo-andika-perkasa-hendi-naik\n",
            "https://pemilu.kompas.com/aspirasianakbangsa\n",
            "http://www.kompas.com/cekfakta/read/2023/12/22/084532982/infografik-laporan-awal-dana-kampanye-pilpres-2024-siapa-yang-terbesar\n",
            "http://www.kompas.com/cekfakta/read/2023/12/15/111100382/infografik--kenali-lagi-profil-capres-dan-cawapres-dalam-pilpres-2024\n",
            "http://www.kompas.com/cekfakta/read/2023/12/06/131300482/infografik-kenali-lima-jenis-surat-suara-dalam-pemilu-2024\n",
            "http://www.kompas.com/cekfakta/read/2023/11/27/084800682/infografik-56-bekas-terpidana-korupsi-masuk-dct-jadi-caleg-pemilu-2024\n",
            "http://nasional.kompas.com/read/2024/09/09/13104261/kpu-susun-aturan-soal-dana-kampanye-pilkada\n",
            "http://bandung.kompas.com/read/2024/09/09/123658578/4-paslon-pilkada-jabar-sudah-serahkan-dokumen-perbaikan-syarat-administrasi\n",
            "http://nasional.kompas.com/read/2024/09/09/12202911/indonesia-perlu-wacanakan-kotak-kosong-tak-hanya-untuk-calon-tunggal\n",
            "http://nasional.kompas.com/read/2024/09/09/12060871/kpu-akan-rapat-dengan-dpr-selasa-besok-bahas-soal-kotak-kosong-pada-pilkada\n",
            "http://nasional.kompas.com/read/2024/09/09/11535281/deretan-purnawirawan-jenderal-di-belakang-ahmad-luthfi-taj-yasin-dalam\n",
            "http://bandung.kompas.com/read/2024/09/09/115157678/jelang-pilkada-jabar-2024-ronal-surapradja-tidak-siap-tapi-harus-siap\n",
            "http://nasional.kompas.com/read/2024/09/09/11132151/ada-kesewenangan-dpp-parpol-di-balik-fenomena-calon-tunggal-pilkada-2024\n",
            "http://megapolitan.kompas.com/read/2024/09/09/11012321/profil-kun-wardana-bakal-cawagub-jakarta-2024-dari-jalur-independen\n",
            "http://nasional.kompas.com/read/2024/09/09/10510351/gerakan-coblos-semua-paslon-pada-pilkada-karena-aspirasi-warga-tak-diwadahi\n",
            "https://pemilu.kompas.com/galeri\n",
            "https://video.kompas.com/watch/1667504/pdi-p-daftar-pilkada-jabar-pada-menit-menit-terakhir-usung-jeje-wiradinata-ronal-surapradja\n",
            "https://video.kompas.com/watch/1667193/jubir-anies-ditawari-maju-pilkada-jabar-tapi-belum-memutuskan\n",
            "https://video.kompas.com/watch/1666800/bakal-umumkan-figur-kejutan-di-pilkada-jabar-pdi-p-bisa-bukan-kader\n",
            "https://pemilu.kompas.com/agenda\n",
            "https://www.kompas.com/tag/pemilu2024\n",
            "https://www.kompas.com/tag/pilkada2024\n",
            "https://www.kompas.com/tag/Anies-Muhaimin\n",
            "https://www.kompas.com/tag/Prabowo-Gibran\n",
            "https://www.kompas.com/tag/Ganjar-Mahfud\n",
            "https://www.kompas.com/tag/kpu\n",
            "https://www.kompas.com/tag/kampanye\n",
            "https://www.kompas.com/tag/debatcapres\n",
            "https://www.kompas.com/tag/debatcawapres\n",
            "https://www.kompas.com/tag/quick-count\n",
            "https://pemilu.kompas.com/podcast\n",
            "javascript:void(0)\n",
            "javascript:void(0)\n",
            "javascript:void(0)\n",
            "javascript:void(0)\n",
            "javascript:void(0)\n",
            "javascript:void(0)\n",
            "javascript:void(0)\n",
            "javascript:void(0)\n",
            "javascript:void(0)\n",
            "javascript:void(0)\n",
            "#\n",
            "https://www.kompas.com/\n",
            "https://www.kompas.com/\n",
            "https://www.facebook.com/kompascom\n",
            "https://www.twitter.com/kompascom\n",
            "https://instagram.com/kompascom\n",
            "https://indeks.kompas.com/topik-pilihan/list/3361/kabar.palmerah\n",
            "https://inside.kompas.com/about-us\n",
            "http://www.meetkcm.com/\n",
            "https://www.kgmedia.id/legal-privacy-id\n",
            "https://inside.kompas.com/pedoman\n",
            "https://jobs.kompas.com\n",
            "https://inside.kompas.com/about-us#meet\n",
            "http://www.kompasgramedia.com/\n"
          ]
        }
      ]
    },
    {
      "cell_type": "code",
      "source": [
        "import pandas as pd\n",
        "\n",
        "# Contoh menyimpan data ke dalam dataframe\n",
        "data = {'Link_Text': [], 'Link_URL': []}\n",
        "\n",
        "for link in links:\n",
        "    text = link.text\n",
        "    url = link.get('href')\n",
        "    data['Link_Text'].append(text)\n",
        "    data['Link_URL'].append(url)\n",
        "\n",
        "# Membuat dataframe\n",
        "df = pd.DataFrame(data)\n",
        "\n",
        "# Menampilkan data\n",
        "df.head()\n"
      ],
      "metadata": {
        "colab": {
          "base_uri": "https://localhost:8080/",
          "height": 206
        },
        "id": "-qgn8A48CYIi",
        "outputId": "1f9f4afc-86c8-4af0-b9e6-22459e834416"
      },
      "execution_count": 53,
      "outputs": [
        {
          "output_type": "execute_result",
          "data": {
            "text/plain": [
              "      Link_Text                               Link_URL\n",
              "0          \\n\\n                https://www.kompas.com/\n",
              "1          \\n\\n             https://pemilu.kompas.com/\n",
              "2          Home             https://pemilu.kompas.com/\n",
              "3  Hitung Cepat   https://pemilu.kompas.com/quickcount\n",
              "4   Hasil Akhir  https://pemilu.kompas.com/hasil-akhir"
            ],
            "text/html": [
              "\n",
              "  <div id=\"df-f84b46bf-b682-4a5e-89b9-0d14dcfef5bf\" class=\"colab-df-container\">\n",
              "    <div>\n",
              "<style scoped>\n",
              "    .dataframe tbody tr th:only-of-type {\n",
              "        vertical-align: middle;\n",
              "    }\n",
              "\n",
              "    .dataframe tbody tr th {\n",
              "        vertical-align: top;\n",
              "    }\n",
              "\n",
              "    .dataframe thead th {\n",
              "        text-align: right;\n",
              "    }\n",
              "</style>\n",
              "<table border=\"1\" class=\"dataframe\">\n",
              "  <thead>\n",
              "    <tr style=\"text-align: right;\">\n",
              "      <th></th>\n",
              "      <th>Link_Text</th>\n",
              "      <th>Link_URL</th>\n",
              "    </tr>\n",
              "  </thead>\n",
              "  <tbody>\n",
              "    <tr>\n",
              "      <th>0</th>\n",
              "      <td>\\n\\n</td>\n",
              "      <td>https://www.kompas.com/</td>\n",
              "    </tr>\n",
              "    <tr>\n",
              "      <th>1</th>\n",
              "      <td>\\n\\n</td>\n",
              "      <td>https://pemilu.kompas.com/</td>\n",
              "    </tr>\n",
              "    <tr>\n",
              "      <th>2</th>\n",
              "      <td>Home</td>\n",
              "      <td>https://pemilu.kompas.com/</td>\n",
              "    </tr>\n",
              "    <tr>\n",
              "      <th>3</th>\n",
              "      <td>Hitung Cepat</td>\n",
              "      <td>https://pemilu.kompas.com/quickcount</td>\n",
              "    </tr>\n",
              "    <tr>\n",
              "      <th>4</th>\n",
              "      <td>Hasil Akhir</td>\n",
              "      <td>https://pemilu.kompas.com/hasil-akhir</td>\n",
              "    </tr>\n",
              "  </tbody>\n",
              "</table>\n",
              "</div>\n",
              "    <div class=\"colab-df-buttons\">\n",
              "\n",
              "  <div class=\"colab-df-container\">\n",
              "    <button class=\"colab-df-convert\" onclick=\"convertToInteractive('df-f84b46bf-b682-4a5e-89b9-0d14dcfef5bf')\"\n",
              "            title=\"Convert this dataframe to an interactive table.\"\n",
              "            style=\"display:none;\">\n",
              "\n",
              "  <svg xmlns=\"http://www.w3.org/2000/svg\" height=\"24px\" viewBox=\"0 -960 960 960\">\n",
              "    <path d=\"M120-120v-720h720v720H120Zm60-500h600v-160H180v160Zm220 220h160v-160H400v160Zm0 220h160v-160H400v160ZM180-400h160v-160H180v160Zm440 0h160v-160H620v160ZM180-180h160v-160H180v160Zm440 0h160v-160H620v160Z\"/>\n",
              "  </svg>\n",
              "    </button>\n",
              "\n",
              "  <style>\n",
              "    .colab-df-container {\n",
              "      display:flex;\n",
              "      gap: 12px;\n",
              "    }\n",
              "\n",
              "    .colab-df-convert {\n",
              "      background-color: #E8F0FE;\n",
              "      border: none;\n",
              "      border-radius: 50%;\n",
              "      cursor: pointer;\n",
              "      display: none;\n",
              "      fill: #1967D2;\n",
              "      height: 32px;\n",
              "      padding: 0 0 0 0;\n",
              "      width: 32px;\n",
              "    }\n",
              "\n",
              "    .colab-df-convert:hover {\n",
              "      background-color: #E2EBFA;\n",
              "      box-shadow: 0px 1px 2px rgba(60, 64, 67, 0.3), 0px 1px 3px 1px rgba(60, 64, 67, 0.15);\n",
              "      fill: #174EA6;\n",
              "    }\n",
              "\n",
              "    .colab-df-buttons div {\n",
              "      margin-bottom: 4px;\n",
              "    }\n",
              "\n",
              "    [theme=dark] .colab-df-convert {\n",
              "      background-color: #3B4455;\n",
              "      fill: #D2E3FC;\n",
              "    }\n",
              "\n",
              "    [theme=dark] .colab-df-convert:hover {\n",
              "      background-color: #434B5C;\n",
              "      box-shadow: 0px 1px 3px 1px rgba(0, 0, 0, 0.15);\n",
              "      filter: drop-shadow(0px 1px 2px rgba(0, 0, 0, 0.3));\n",
              "      fill: #FFFFFF;\n",
              "    }\n",
              "  </style>\n",
              "\n",
              "    <script>\n",
              "      const buttonEl =\n",
              "        document.querySelector('#df-f84b46bf-b682-4a5e-89b9-0d14dcfef5bf button.colab-df-convert');\n",
              "      buttonEl.style.display =\n",
              "        google.colab.kernel.accessAllowed ? 'block' : 'none';\n",
              "\n",
              "      async function convertToInteractive(key) {\n",
              "        const element = document.querySelector('#df-f84b46bf-b682-4a5e-89b9-0d14dcfef5bf');\n",
              "        const dataTable =\n",
              "          await google.colab.kernel.invokeFunction('convertToInteractive',\n",
              "                                                    [key], {});\n",
              "        if (!dataTable) return;\n",
              "\n",
              "        const docLinkHtml = 'Like what you see? Visit the ' +\n",
              "          '<a target=\"_blank\" href=https://colab.research.google.com/notebooks/data_table.ipynb>data table notebook</a>'\n",
              "          + ' to learn more about interactive tables.';\n",
              "        element.innerHTML = '';\n",
              "        dataTable['output_type'] = 'display_data';\n",
              "        await google.colab.output.renderOutput(dataTable, element);\n",
              "        const docLink = document.createElement('div');\n",
              "        docLink.innerHTML = docLinkHtml;\n",
              "        element.appendChild(docLink);\n",
              "      }\n",
              "    </script>\n",
              "  </div>\n",
              "\n",
              "\n",
              "<div id=\"df-5be63a4b-988d-4fc7-bec2-8b74c1dbc6b6\">\n",
              "  <button class=\"colab-df-quickchart\" onclick=\"quickchart('df-5be63a4b-988d-4fc7-bec2-8b74c1dbc6b6')\"\n",
              "            title=\"Suggest charts\"\n",
              "            style=\"display:none;\">\n",
              "\n",
              "<svg xmlns=\"http://www.w3.org/2000/svg\" height=\"24px\"viewBox=\"0 0 24 24\"\n",
              "     width=\"24px\">\n",
              "    <g>\n",
              "        <path d=\"M19 3H5c-1.1 0-2 .9-2 2v14c0 1.1.9 2 2 2h14c1.1 0 2-.9 2-2V5c0-1.1-.9-2-2-2zM9 17H7v-7h2v7zm4 0h-2V7h2v10zm4 0h-2v-4h2v4z\"/>\n",
              "    </g>\n",
              "</svg>\n",
              "  </button>\n",
              "\n",
              "<style>\n",
              "  .colab-df-quickchart {\n",
              "      --bg-color: #E8F0FE;\n",
              "      --fill-color: #1967D2;\n",
              "      --hover-bg-color: #E2EBFA;\n",
              "      --hover-fill-color: #174EA6;\n",
              "      --disabled-fill-color: #AAA;\n",
              "      --disabled-bg-color: #DDD;\n",
              "  }\n",
              "\n",
              "  [theme=dark] .colab-df-quickchart {\n",
              "      --bg-color: #3B4455;\n",
              "      --fill-color: #D2E3FC;\n",
              "      --hover-bg-color: #434B5C;\n",
              "      --hover-fill-color: #FFFFFF;\n",
              "      --disabled-bg-color: #3B4455;\n",
              "      --disabled-fill-color: #666;\n",
              "  }\n",
              "\n",
              "  .colab-df-quickchart {\n",
              "    background-color: var(--bg-color);\n",
              "    border: none;\n",
              "    border-radius: 50%;\n",
              "    cursor: pointer;\n",
              "    display: none;\n",
              "    fill: var(--fill-color);\n",
              "    height: 32px;\n",
              "    padding: 0;\n",
              "    width: 32px;\n",
              "  }\n",
              "\n",
              "  .colab-df-quickchart:hover {\n",
              "    background-color: var(--hover-bg-color);\n",
              "    box-shadow: 0 1px 2px rgba(60, 64, 67, 0.3), 0 1px 3px 1px rgba(60, 64, 67, 0.15);\n",
              "    fill: var(--button-hover-fill-color);\n",
              "  }\n",
              "\n",
              "  .colab-df-quickchart-complete:disabled,\n",
              "  .colab-df-quickchart-complete:disabled:hover {\n",
              "    background-color: var(--disabled-bg-color);\n",
              "    fill: var(--disabled-fill-color);\n",
              "    box-shadow: none;\n",
              "  }\n",
              "\n",
              "  .colab-df-spinner {\n",
              "    border: 2px solid var(--fill-color);\n",
              "    border-color: transparent;\n",
              "    border-bottom-color: var(--fill-color);\n",
              "    animation:\n",
              "      spin 1s steps(1) infinite;\n",
              "  }\n",
              "\n",
              "  @keyframes spin {\n",
              "    0% {\n",
              "      border-color: transparent;\n",
              "      border-bottom-color: var(--fill-color);\n",
              "      border-left-color: var(--fill-color);\n",
              "    }\n",
              "    20% {\n",
              "      border-color: transparent;\n",
              "      border-left-color: var(--fill-color);\n",
              "      border-top-color: var(--fill-color);\n",
              "    }\n",
              "    30% {\n",
              "      border-color: transparent;\n",
              "      border-left-color: var(--fill-color);\n",
              "      border-top-color: var(--fill-color);\n",
              "      border-right-color: var(--fill-color);\n",
              "    }\n",
              "    40% {\n",
              "      border-color: transparent;\n",
              "      border-right-color: var(--fill-color);\n",
              "      border-top-color: var(--fill-color);\n",
              "    }\n",
              "    60% {\n",
              "      border-color: transparent;\n",
              "      border-right-color: var(--fill-color);\n",
              "    }\n",
              "    80% {\n",
              "      border-color: transparent;\n",
              "      border-right-color: var(--fill-color);\n",
              "      border-bottom-color: var(--fill-color);\n",
              "    }\n",
              "    90% {\n",
              "      border-color: transparent;\n",
              "      border-bottom-color: var(--fill-color);\n",
              "    }\n",
              "  }\n",
              "</style>\n",
              "\n",
              "  <script>\n",
              "    async function quickchart(key) {\n",
              "      const quickchartButtonEl =\n",
              "        document.querySelector('#' + key + ' button');\n",
              "      quickchartButtonEl.disabled = true;  // To prevent multiple clicks.\n",
              "      quickchartButtonEl.classList.add('colab-df-spinner');\n",
              "      try {\n",
              "        const charts = await google.colab.kernel.invokeFunction(\n",
              "            'suggestCharts', [key], {});\n",
              "      } catch (error) {\n",
              "        console.error('Error during call to suggestCharts:', error);\n",
              "      }\n",
              "      quickchartButtonEl.classList.remove('colab-df-spinner');\n",
              "      quickchartButtonEl.classList.add('colab-df-quickchart-complete');\n",
              "    }\n",
              "    (() => {\n",
              "      let quickchartButtonEl =\n",
              "        document.querySelector('#df-5be63a4b-988d-4fc7-bec2-8b74c1dbc6b6 button');\n",
              "      quickchartButtonEl.style.display =\n",
              "        google.colab.kernel.accessAllowed ? 'block' : 'none';\n",
              "    })();\n",
              "  </script>\n",
              "</div>\n",
              "\n",
              "    </div>\n",
              "  </div>\n"
            ],
            "application/vnd.google.colaboratory.intrinsic+json": {
              "type": "dataframe",
              "variable_name": "df",
              "summary": "{\n  \"name\": \"df\",\n  \"rows\": 85,\n  \"fields\": [\n    {\n      \"column\": \"Link_Text\",\n      \"properties\": {\n        \"dtype\": \"string\",\n        \"num_unique_values\": 78,\n        \"samples\": [\n          \"\\n\\n\\n\\nINFOGRAFIK: Kenali Lima Jenis Surat Suara dalam Pemilu 2024\\n\",\n          \"\\n\\n\",\n          \"\\n\\n\\n\\nINFOGRAFIK: 56 Bekas Terpidana Korupsi Masuk DCT, Jadi Caleg Pemilu 2024\\n\"\n        ],\n        \"semantic_type\": \"\",\n        \"description\": \"\"\n      }\n    },\n    {\n      \"column\": \"Link_URL\",\n      \"properties\": {\n        \"dtype\": \"string\",\n        \"num_unique_values\": 72,\n        \"samples\": [\n          \"https://pemilu.kompas.com/pilpres\",\n          \"https://www.twitter.com/kompascom\",\n          \"http://www.kompas.com/tren/read/2024/09/09/160000265/profil-letjen-tni-purn-am-putranto-ketua-tim-pemenangan-ahmad-luthfi-taj\"\n        ],\n        \"semantic_type\": \"\",\n        \"description\": \"\"\n      }\n    }\n  ]\n}"
            }
          },
          "metadata": {},
          "execution_count": 53
        }
      ]
    },
    {
      "cell_type": "code",
      "source": [
        "# Menyimpan dataframe ke file CSV\n",
        "df.to_csv('hasil_crawling5.csv', index=False)\n",
        "print(\"Data disimpan ke file hasil_crawling berita.csv\")\n"
      ],
      "metadata": {
        "colab": {
          "base_uri": "https://localhost:8080/"
        },
        "id": "-ts3hWozDeWN",
        "outputId": "43f8b6fc-083d-4c54-a18c-2a407f14b441"
      },
      "execution_count": 54,
      "outputs": [
        {
          "output_type": "stream",
          "name": "stdout",
          "text": [
            "Data disimpan ke file hasil_crawling berita.csv\n"
          ]
        }
      ]
    },
    {
      "cell_type": "code",
      "source": [
        "headers = {'User-Agent': 'Mozilla/5.0 (Windows NT 10.0; Win64; x64) AppleWebKit/537.36 (KHTML, like Gecko) Chrome/91.0.4472.124 Safari/537.36'}\n",
        "response = requests.get(url, headers=headers)\n"
      ],
      "metadata": {
        "id": "NgO2E5iiDkUN"
      },
      "execution_count": null,
      "outputs": []
    },
    {
      "cell_type": "code",
      "source": [
        "from google.colab import drive\n",
        "drive.mount('/content/drive')"
      ],
      "metadata": {
        "id": "079lfxqZHC8f",
        "colab": {
          "base_uri": "https://localhost:8080/"
        },
        "outputId": "603378eb-9f2f-488e-d009-3ecd39d0c6de"
      },
      "execution_count": 46,
      "outputs": [
        {
          "output_type": "stream",
          "name": "stdout",
          "text": [
            "Drive already mounted at /content/drive; to attempt to forcibly remount, call drive.mount(\"/content/drive\", force_remount=True).\n"
          ]
        }
      ]
    }
  ]
}